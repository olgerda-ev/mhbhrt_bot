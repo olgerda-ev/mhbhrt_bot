{
  "nbformat": 4,
  "nbformat_minor": 0,
  "metadata": {
    "colab": {
      "name": "json_model.ipynb",
      "provenance": [],
      "collapsed_sections": []
    },
    "kernelspec": {
      "name": "python3",
      "display_name": "Python 3"
    },
    "language_info": {
      "name": "python"
    }
  },
  "cells": [
    {
      "cell_type": "code",
      "source": [
        "!pip install markovify"
      ],
      "metadata": {
        "colab": {
          "base_uri": "https://localhost:8080/"
        },
        "id": "iocsALueCR4p",
        "outputId": "3cb7fd4a-14a8-4255-b5e4-977931898a83"
      },
      "execution_count": 8,
      "outputs": [
        {
          "output_type": "stream",
          "name": "stdout",
          "text": [
            "Collecting markovify\n",
            "  Downloading markovify-0.9.4.tar.gz (27 kB)\n",
            "Collecting unidecode\n",
            "  Downloading Unidecode-1.3.4-py3-none-any.whl (235 kB)\n",
            "\u001b[K     |████████████████████████████████| 235 kB 5.2 MB/s \n",
            "\u001b[?25hBuilding wheels for collected packages: markovify\n",
            "  Building wheel for markovify (setup.py) ... \u001b[?25l\u001b[?25hdone\n",
            "  Created wheel for markovify: filename=markovify-0.9.4-py3-none-any.whl size=18628 sha256=1d977d0dc8dda126066ab08a728b7beadea67c89d42b59f9f9d96ab3fd9ac104\n",
            "  Stored in directory: /root/.cache/pip/wheels/36/c5/82/11125c5a7dadec27ef49ac2b3a12d3b1f79ff7333c92a9b67b\n",
            "Successfully built markovify\n",
            "Installing collected packages: unidecode, markovify\n",
            "Successfully installed markovify-0.9.4 unidecode-1.3.4\n"
          ]
        }
      ]
    },
    {
      "cell_type": "code",
      "source": [
        "import re\n",
        "import markovify\n",
        "import spacy\n",
        "import json"
      ],
      "metadata": {
        "id": "lnUZWlPwCJ6p"
      },
      "execution_count": 137,
      "outputs": []
    },
    {
      "cell_type": "code",
      "execution_count": 21,
      "metadata": {
        "id": "CUg43HAqcOxR"
      },
      "outputs": [],
      "source": [
        "#чистим тексты\n",
        "for i in range (4):\n",
        "  filename = 'mhb' + str(i+1) + '.txt'\n",
        "  with open (filename, 'r', encoding=\"UTF-8\") as f:\n",
        "    mhb = f.read()\n",
        "  mhb = mhb.replace('\\ufeff', '')\n",
        "  mhb = re.sub(r'\\nSECTION \\w+\\n', ' ', mhb) #названия частей\n",
        "  mhb = re.sub(r'BOOK \\w+\\n', '', mhb) #названия книги\n",
        "  mhb = mhb.replace('\\n', ' ') # в одну длинную строку\n",
        "  mhb = re.sub(r'\\s[A-Z]{2,}', '', mhb) #и остальные названия капсом убираем\n",
        "  mhb = re.sub(r'[0-9]{1,}', '', mhb) #и всякие цифры\n",
        "  mhb = re.sub(r'\\s{2,}', ' ', mhb) #чтобы максимум был 1 пробел между\n",
        "  mhb = mhb.replace('[]', ' ')\n",
        "  mhb = re.sub(r'[()]', '', mhb)\n",
        "  if i+1 == 1:\n",
        "    mhb1 = mhb\n",
        "  elif i+1 == 2:\n",
        "    mhb2 = mhb\n",
        "  elif i+1 == 3:\n",
        "    mhb3 = mhb\n",
        "  else:\n",
        "    mhb4 = mhb"
      ]
    },
    {
      "cell_type": "code",
      "source": [
        "nlp = spacy.load('en_core_web_sm')"
      ],
      "metadata": {
        "id": "fEjvBR-VCu7u"
      },
      "execution_count": 26,
      "outputs": []
    },
    {
      "cell_type": "code",
      "source": [
        "#cтараемся научить модель учитывать части речи слов при генерации текстов,\n",
        "#что, в теории, позволит ей строить более приличные с точки зрения синтаксиса\n",
        "#предложения\n",
        "class POSifiedText(markovify.Text):\n",
        "    def word_split(self, sentence):\n",
        "        return [\"::\".join((word.orth_, word.pos_)) for word in nlp(sentence)]\n",
        "\n",
        "    def word_join(self, words):\n",
        "        sentence = \" \".join(word.split(\"::\")[0] for word in words)\n",
        "        return sentence"
      ],
      "metadata": {
        "id": "99jYB0DtE-wh"
      },
      "execution_count": 136,
      "outputs": []
    },
    {
      "cell_type": "code",
      "source": [
        "model1 = POSifiedText(mhb1, state_size = 3)"
      ],
      "metadata": {
        "id": "KmNlDMKrFrd2"
      },
      "execution_count": 35,
      "outputs": []
    },
    {
      "cell_type": "code",
      "source": [
        "model2 = POSifiedText(mhb2, state_size = 3)"
      ],
      "metadata": {
        "id": "oyr6jdSuB9v3"
      },
      "execution_count": 36,
      "outputs": []
    },
    {
      "cell_type": "code",
      "source": [
        "model3 = POSifiedText(mhb3, state_size = 3)"
      ],
      "metadata": {
        "id": "ULKgwLohG0so"
      },
      "execution_count": 37,
      "outputs": []
    },
    {
      "cell_type": "code",
      "source": [
        "model4 = POSifiedText(mhb4, state_size = 3)"
      ],
      "metadata": {
        "id": "dpl1JhPjG1Si"
      },
      "execution_count": 38,
      "outputs": []
    },
    {
      "cell_type": "code",
      "source": [
        "combo_model = markovify.combine([ model1, model2, model3, model4 ], [ 1, 1, 1, 1 ])"
      ],
      "metadata": {
        "id": "5NPeGRkJHAAl"
      },
      "execution_count": 60,
      "outputs": []
    },
    {
      "cell_type": "code",
      "source": [
        "#обучение моделей занимает много времени, поэтому экспортируем готовые в .json\n",
        "#сможем потом просто загружать их, а не обучать с нуля\n",
        "combo_model_json = combo_model.to_json()"
      ],
      "metadata": {
        "id": "nL1nLsoOObrq"
      },
      "execution_count": 139,
      "outputs": []
    },
    {
      "cell_type": "code",
      "source": [
        "with open('combo_model.json', 'w') as outfile:\n",
        "    json.dump(combo_model_json, outfile)"
      ],
      "metadata": {
        "id": "RbRNckU_Ryzy"
      },
      "execution_count": 140,
      "outputs": []
    },
    {
      "cell_type": "code",
      "source": [
        "model1_json = model1.to_json()\n",
        "model2_json = model2.to_json()\n",
        "model3_json = model3.to_json()\n",
        "model4_json = model4.to_json()"
      ],
      "metadata": {
        "id": "1x_QoRoDZE3H"
      },
      "execution_count": 138,
      "outputs": []
    },
    {
      "cell_type": "code",
      "source": [
        "with open('model1.json', 'w') as outfile1:\n",
        "    json.dump(model1_json, outfile1)\n",
        "with open('model2.json', 'w') as outfile2:\n",
        "    json.dump(model2_json, outfile2)\n",
        "with open('model3.json', 'w') as outfile3:\n",
        "    json.dump(model3_json, outfile3)\n",
        "with open('model4.json', 'w') as outfile4:\n",
        "    json.dump(model4_json, outfile4)"
      ],
      "metadata": {
        "id": "_ebSBWiFZn8V"
      },
      "execution_count": 142,
      "outputs": []
    }
  ]
}